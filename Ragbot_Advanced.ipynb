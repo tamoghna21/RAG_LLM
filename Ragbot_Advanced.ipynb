{
 "cells": [
  {
   "cell_type": "code",
   "execution_count": null,
   "id": "b6af293a-7d21-4cce-a1c9-5c7734b45be6",
   "metadata": {},
   "outputs": [],
   "source": []
  },
  {
   "cell_type": "code",
   "execution_count": 8,
   "id": "edab342f-5c67-46be-8680-0436cc7ac9ca",
   "metadata": {},
   "outputs": [],
   "source": [
    "from langchain.document_loaders import DirectoryLoader\n",
    "from langchain.text_splitter import CharacterTextSplitter\n",
    "from langchain.text_splitter import RecursiveCharacterTextSplitter\n",
    "from langchain.vectorstores import FAISS\n",
    "from langchain.embeddings import HuggingFaceEmbeddings\n",
    "from langchain import HuggingFacePipeline\n",
    "from langchain.chains import RetrievalQA\n",
    "from transformers import AutoTokenizer, pipeline\n",
    "from langchain.docstore.document import Document as LangchainDocument\n",
    "from langchain.vectorstores.utils import DistanceStrategy\n",
    "\n",
    "from tqdm.notebook import tqdm\n",
    "import pandas as pd\n",
    "from typing import Optional, List, Tuple\n",
    "import matplotlib.pyplot as plt\n",
    "\n",
    "import torch\n",
    "from transformers import AutoModelForCausalLM, BitsAndBytesConfig\n",
    "from transformers import AutoModel"
   ]
  },
  {
   "cell_type": "markdown",
   "id": "8a437fe5-b920-4476-a8dc-91fce471a25f",
   "metadata": {},
   "source": [
    "#### Load Docs (pdf)"
   ]
  },
  {
   "cell_type": "code",
   "execution_count": 3,
   "id": "11376492-2991-4a36-88a6-7222c91d181f",
   "metadata": {},
   "outputs": [
    {
     "name": "stderr",
     "output_type": "stream",
     "text": [
      "  0%|                                                    | 0/64 [00:00<?, ?it/s]This function will be deprecated in a future release and `unstructured` will simply use the DEFAULT_MODEL from `unstructured_inference.model.base` to set default model name\n",
      "Some weights of the model checkpoint at microsoft/table-transformer-structure-recognition were not used when initializing TableTransformerForObjectDetection: ['model.backbone.conv_encoder.model.layer2.0.downsample.1.num_batches_tracked', 'model.backbone.conv_encoder.model.layer3.0.downsample.1.num_batches_tracked', 'model.backbone.conv_encoder.model.layer4.0.downsample.1.num_batches_tracked']\n",
      "- This IS expected if you are initializing TableTransformerForObjectDetection from the checkpoint of a model trained on another task or with another architecture (e.g. initializing a BertForSequenceClassification model from a BertForPreTraining model).\n",
      "- This IS NOT expected if you are initializing TableTransformerForObjectDetection from the checkpoint of a model that you expect to be exactly identical (initializing a BertForSequenceClassification model from a BertForSequenceClassification model).\n",
      "  2%|▋                                           | 1/64 [00:40<43:00, 40.96s/it]This function will be deprecated in a future release and `unstructured` will simply use the DEFAULT_MODEL from `unstructured_inference.model.base` to set default model name\n",
      "  3%|█▍                                          | 2/64 [01:11<36:13, 35.05s/it]This function will be deprecated in a future release and `unstructured` will simply use the DEFAULT_MODEL from `unstructured_inference.model.base` to set default model name\n",
      "  5%|█▉                                        | 3/64 [03:29<1:23:26, 82.07s/it]This function will be deprecated in a future release and `unstructured` will simply use the DEFAULT_MODEL from `unstructured_inference.model.base` to set default model name\n",
      "  6%|██▌                                      | 4/64 [05:48<1:44:32, 104.55s/it]This function will be deprecated in a future release and `unstructured` will simply use the DEFAULT_MODEL from `unstructured_inference.model.base` to set default model name\n",
      "  8%|███▎                                      | 5/64 [06:15<1:15:00, 76.27s/it]This function will be deprecated in a future release and `unstructured` will simply use the DEFAULT_MODEL from `unstructured_inference.model.base` to set default model name\n",
      "  9%|████▏                                       | 6/64 [06:41<57:17, 59.28s/it]This function will be deprecated in a future release and `unstructured` will simply use the DEFAULT_MODEL from `unstructured_inference.model.base` to set default model name\n",
      " 11%|████▊                                       | 7/64 [07:07<46:06, 48.54s/it]This function will be deprecated in a future release and `unstructured` will simply use the DEFAULT_MODEL from `unstructured_inference.model.base` to set default model name\n",
      " 12%|█████▌                                      | 8/64 [07:32<38:11, 40.92s/it]This function will be deprecated in a future release and `unstructured` will simply use the DEFAULT_MODEL from `unstructured_inference.model.base` to set default model name\n",
      " 14%|█████▉                                    | 9/64 [10:52<1:23:01, 90.58s/it]This function will be deprecated in a future release and `unstructured` will simply use the DEFAULT_MODEL from `unstructured_inference.model.base` to set default model name\n",
      " 16%|██████▍                                  | 10/64 [11:16<1:03:12, 70.23s/it]This function will be deprecated in a future release and `unstructured` will simply use the DEFAULT_MODEL from `unstructured_inference.model.base` to set default model name\n",
      " 17%|███████                                  | 11/64 [13:19<1:16:17, 86.37s/it]This function will be deprecated in a future release and `unstructured` will simply use the DEFAULT_MODEL from `unstructured_inference.model.base` to set default model name\n",
      " 19%|███████▋                                 | 12/64 [15:15<1:22:37, 95.33s/it]This function will be deprecated in a future release and `unstructured` will simply use the DEFAULT_MODEL from `unstructured_inference.model.base` to set default model name\n",
      " 20%|████████▎                                | 13/64 [15:37<1:02:00, 72.96s/it]This function will be deprecated in a future release and `unstructured` will simply use the DEFAULT_MODEL from `unstructured_inference.model.base` to set default model name\n",
      " 22%|████████▉                                | 14/64 [17:30<1:10:54, 85.08s/it]This function will be deprecated in a future release and `unstructured` will simply use the DEFAULT_MODEL from `unstructured_inference.model.base` to set default model name\n",
      " 23%|██████████                                 | 15/64 [17:52<54:02, 66.17s/it]This function will be deprecated in a future release and `unstructured` will simply use the DEFAULT_MODEL from `unstructured_inference.model.base` to set default model name\n",
      " 25%|██████████▊                                | 16/64 [18:13<42:03, 52.57s/it]This function will be deprecated in a future release and `unstructured` will simply use the DEFAULT_MODEL from `unstructured_inference.model.base` to set default model name\n",
      " 27%|███████████▍                               | 17/64 [19:46<50:42, 64.72s/it]This function will be deprecated in a future release and `unstructured` will simply use the DEFAULT_MODEL from `unstructured_inference.model.base` to set default model name\n",
      " 28%|████████████                               | 18/64 [20:07<39:34, 51.63s/it]This function will be deprecated in a future release and `unstructured` will simply use the DEFAULT_MODEL from `unstructured_inference.model.base` to set default model name\n",
      " 30%|████████████▊                              | 19/64 [20:29<32:02, 42.73s/it]This function will be deprecated in a future release and `unstructured` will simply use the DEFAULT_MODEL from `unstructured_inference.model.base` to set default model name\n",
      " 31%|█████████████▍                             | 20/64 [22:32<49:02, 66.87s/it]This function will be deprecated in a future release and `unstructured` will simply use the DEFAULT_MODEL from `unstructured_inference.model.base` to set default model name\n",
      " 33%|█████████████▍                           | 21/64 [25:20<1:09:39, 97.20s/it]This function will be deprecated in a future release and `unstructured` will simply use the DEFAULT_MODEL from `unstructured_inference.model.base` to set default model name\n",
      " 34%|█████████████▊                          | 22/64 [29:30<1:40:03, 142.94s/it]This function will be deprecated in a future release and `unstructured` will simply use the DEFAULT_MODEL from `unstructured_inference.model.base` to set default model name\n",
      " 36%|██████████████▍                         | 23/64 [31:04<1:27:39, 128.27s/it]This function will be deprecated in a future release and `unstructured` will simply use the DEFAULT_MODEL from `unstructured_inference.model.base` to set default model name\n",
      " 38%|███████████████                         | 24/64 [32:55<1:22:08, 123.22s/it]This function will be deprecated in a future release and `unstructured` will simply use the DEFAULT_MODEL from `unstructured_inference.model.base` to set default model name\n",
      " 39%|████████████████▊                          | 25/64 [33:12<59:21, 91.32s/it]This function will be deprecated in a future release and `unstructured` will simply use the DEFAULT_MODEL from `unstructured_inference.model.base` to set default model name\n",
      " 41%|█████████████████▍                         | 26/64 [33:28<43:30, 68.70s/it]This function will be deprecated in a future release and `unstructured` will simply use the DEFAULT_MODEL from `unstructured_inference.model.base` to set default model name\n",
      " 42%|██████████████████▏                        | 27/64 [33:51<33:52, 54.93s/it]This function will be deprecated in a future release and `unstructured` will simply use the DEFAULT_MODEL from `unstructured_inference.model.base` to set default model name\n",
      " 44%|██████████████████▊                        | 28/64 [34:13<27:00, 45.02s/it]This function will be deprecated in a future release and `unstructured` will simply use the DEFAULT_MODEL from `unstructured_inference.model.base` to set default model name\n",
      " 45%|███████████████████▍                       | 29/64 [36:02<37:32, 64.35s/it]This function will be deprecated in a future release and `unstructured` will simply use the DEFAULT_MODEL from `unstructured_inference.model.base` to set default model name\n",
      " 47%|████████████████████▏                      | 30/64 [36:24<29:12, 51.55s/it]This function will be deprecated in a future release and `unstructured` will simply use the DEFAULT_MODEL from `unstructured_inference.model.base` to set default model name\n",
      " 48%|████████████████████▊                      | 31/64 [36:46<23:25, 42.59s/it]This function will be deprecated in a future release and `unstructured` will simply use the DEFAULT_MODEL from `unstructured_inference.model.base` to set default model name\n",
      " 50%|█████████████████████▌                     | 32/64 [38:54<36:28, 68.41s/it]This function will be deprecated in a future release and `unstructured` will simply use the DEFAULT_MODEL from `unstructured_inference.model.base` to set default model name\n",
      " 52%|██████████████████████▏                    | 33/64 [39:21<28:56, 56.01s/it]This function will be deprecated in a future release and `unstructured` will simply use the DEFAULT_MODEL from `unstructured_inference.model.base` to set default model name\n",
      " 53%|██████████████████████▊                    | 34/64 [39:42<22:43, 45.44s/it]This function will be deprecated in a future release and `unstructured` will simply use the DEFAULT_MODEL from `unstructured_inference.model.base` to set default model name\n",
      " 55%|███████████████████████▌                   | 35/64 [41:57<34:53, 72.17s/it]This function will be deprecated in a future release and `unstructured` will simply use the DEFAULT_MODEL from `unstructured_inference.model.base` to set default model name\n",
      " 56%|████████████████████████▏                  | 36/64 [44:05<41:35, 89.13s/it]This function will be deprecated in a future release and `unstructured` will simply use the DEFAULT_MODEL from `unstructured_inference.model.base` to set default model name\n",
      " 58%|████████████████████████▊                  | 37/64 [46:04<44:09, 98.11s/it]This function will be deprecated in a future release and `unstructured` will simply use the DEFAULT_MODEL from `unstructured_inference.model.base` to set default model name\n",
      " 59%|█████████████████████████▌                 | 38/64 [47:48<43:12, 99.72s/it]This function will be deprecated in a future release and `unstructured` will simply use the DEFAULT_MODEL from `unstructured_inference.model.base` to set default model name\n",
      " 61%|██████████████████████████▏                | 39/64 [48:11<31:54, 76.58s/it]This function will be deprecated in a future release and `unstructured` will simply use the DEFAULT_MODEL from `unstructured_inference.model.base` to set default model name\n",
      " 62%|██████████████████████████▎               | 40/64 [51:02<42:02, 105.11s/it]This function will be deprecated in a future release and `unstructured` will simply use the DEFAULT_MODEL from `unstructured_inference.model.base` to set default model name\n",
      " 64%|███████████████████████████▌               | 41/64 [51:24<30:45, 80.22s/it]This function will be deprecated in a future release and `unstructured` will simply use the DEFAULT_MODEL from `unstructured_inference.model.base` to set default model name\n",
      " 66%|████████████████████████████▏              | 42/64 [53:19<33:14, 90.65s/it]This function will be deprecated in a future release and `unstructured` will simply use the DEFAULT_MODEL from `unstructured_inference.model.base` to set default model name\n",
      " 67%|████████████████████████████▉              | 43/64 [53:40<24:24, 69.72s/it]This function will be deprecated in a future release and `unstructured` will simply use the DEFAULT_MODEL from `unstructured_inference.model.base` to set default model name\n",
      " 69%|█████████████████████████████▌             | 44/64 [55:38<27:59, 84.00s/it]This function will be deprecated in a future release and `unstructured` will simply use the DEFAULT_MODEL from `unstructured_inference.model.base` to set default model name\n",
      " 70%|██████████████████████████████▏            | 45/64 [57:16<28:00, 88.43s/it]This function will be deprecated in a future release and `unstructured` will simply use the DEFAULT_MODEL from `unstructured_inference.model.base` to set default model name\n",
      " 72%|██████████████████████████████▉            | 46/64 [57:39<20:35, 68.64s/it]This function will be deprecated in a future release and `unstructured` will simply use the DEFAULT_MODEL from `unstructured_inference.model.base` to set default model name\n",
      " 73%|███████████████████████████████▌           | 47/64 [59:36<23:33, 83.14s/it]This function will be deprecated in a future release and `unstructured` will simply use the DEFAULT_MODEL from `unstructured_inference.model.base` to set default model name\n",
      " 75%|████████████████████████████████▎          | 48/64 [59:57<17:14, 64.67s/it]This function will be deprecated in a future release and `unstructured` will simply use the DEFAULT_MODEL from `unstructured_inference.model.base` to set default model name\n",
      " 77%|███████████████████████████████▍         | 49/64 [1:00:18<12:54, 51.60s/it]This function will be deprecated in a future release and `unstructured` will simply use the DEFAULT_MODEL from `unstructured_inference.model.base` to set default model name\n",
      " 78%|████████████████████████████████         | 50/64 [1:02:24<17:11, 73.66s/it]This function will be deprecated in a future release and `unstructured` will simply use the DEFAULT_MODEL from `unstructured_inference.model.base` to set default model name\n",
      " 80%|████████████████████████████████▋        | 51/64 [1:04:18<18:35, 85.84s/it]This function will be deprecated in a future release and `unstructured` will simply use the DEFAULT_MODEL from `unstructured_inference.model.base` to set default model name\n",
      " 81%|█████████████████████████████████▎       | 52/64 [1:05:52<17:39, 88.32s/it]This function will be deprecated in a future release and `unstructured` will simply use the DEFAULT_MODEL from `unstructured_inference.model.base` to set default model name\n",
      " 83%|█████████████████████████████████▉       | 53/64 [1:06:15<12:35, 68.64s/it]This function will be deprecated in a future release and `unstructured` will simply use the DEFAULT_MODEL from `unstructured_inference.model.base` to set default model name\n",
      " 84%|█████████████████████████████████▊      | 54/64 [1:10:25<20:32, 123.27s/it]This function will be deprecated in a future release and `unstructured` will simply use the DEFAULT_MODEL from `unstructured_inference.model.base` to set default model name\n",
      " 86%|███████████████████████████████████▏     | 55/64 [1:10:50<14:02, 93.63s/it]This function will be deprecated in a future release and `unstructured` will simply use the DEFAULT_MODEL from `unstructured_inference.model.base` to set default model name\n",
      " 88%|███████████████████████████████████▉     | 56/64 [1:11:12<09:37, 72.14s/it]This function will be deprecated in a future release and `unstructured` will simply use the DEFAULT_MODEL from `unstructured_inference.model.base` to set default model name\n",
      " 89%|████████████████████████████████████▌    | 57/64 [1:11:34<06:39, 57.06s/it]This function will be deprecated in a future release and `unstructured` will simply use the DEFAULT_MODEL from `unstructured_inference.model.base` to set default model name\n",
      " 91%|█████████████████████████████████████▏   | 58/64 [1:13:25<07:20, 73.44s/it]This function will be deprecated in a future release and `unstructured` will simply use the DEFAULT_MODEL from `unstructured_inference.model.base` to set default model name\n",
      " 92%|█████████████████████████████████████▊   | 59/64 [1:13:48<04:51, 58.20s/it]This function will be deprecated in a future release and `unstructured` will simply use the DEFAULT_MODEL from `unstructured_inference.model.base` to set default model name\n",
      " 94%|██████████████████████████████████████▍  | 60/64 [1:14:09<03:08, 47.01s/it]This function will be deprecated in a future release and `unstructured` will simply use the DEFAULT_MODEL from `unstructured_inference.model.base` to set default model name\n",
      " 95%|███████████████████████████████████████  | 61/64 [1:14:31<01:58, 39.45s/it]This function will be deprecated in a future release and `unstructured` will simply use the DEFAULT_MODEL from `unstructured_inference.model.base` to set default model name\n",
      " 97%|███████████████████████████████████████▋ | 62/64 [1:16:24<02:03, 61.73s/it]This function will be deprecated in a future release and `unstructured` will simply use the DEFAULT_MODEL from `unstructured_inference.model.base` to set default model name\n",
      " 98%|████████████████████████████████████████▎| 63/64 [1:18:29<01:20, 80.57s/it]This function will be deprecated in a future release and `unstructured` will simply use the DEFAULT_MODEL from `unstructured_inference.model.base` to set default model name\n",
      "100%|█████████████████████████████████████████| 64/64 [1:20:16<00:00, 75.26s/it]\n"
     ]
    }
   ],
   "source": [
    "doc_loader = DirectoryLoader('./FOMC_docs_2023_2020', glob='**/*.pdf',     # load pdf files\n",
    "    show_progress=True\n",
    ")\n",
    "docs = doc_loader.load()"
   ]
  },
  {
   "cell_type": "code",
   "execution_count": 6,
   "id": "ba422723-abad-4435-aef3-dbf8002a8d6b",
   "metadata": {},
   "outputs": [
    {
     "data": {
      "text/plain": [
       "64"
      ]
     },
     "execution_count": 6,
     "metadata": {},
     "output_type": "execute_result"
    }
   ],
   "source": [
    "len(docs)"
   ]
  },
  {
   "cell_type": "code",
   "execution_count": 7,
   "id": "14d57f74-eab9-4012-b2e8-574ed3858ddd",
   "metadata": {},
   "outputs": [
    {
     "data": {
      "text/plain": [
       "Document(page_content='FEDERAL RESERVE press release\\n\\nFor release at 2:00 p.m. EDT                                             July 26, 2023  \\n\\nRecent indicators suggest that economic activity has been expanding at a moderate pace.\\n\\nJob gains have been robust in recent months, and the unemployment rate has remained low.\\n\\nInflation remains elevated.\\n\\nThe U.S. banking system is sound and resilient. Tighter credit conditions for households and businesses are likely to weigh on economic activity, hiring, and inflation. The extent of these effects remains uncertain. The Committee remains highly attentive to inflation risks.\\n\\nThe Committee seeks to achieve maximum employment and inflation at the rate of 2 percent over the longer run. In support of these goals, the Committee decided to raise the target range for the federal funds rate to 5-1/4 to 5-1/2 percent. The Committee will continue to assess additional information and its implications for monetary policy. In determining the extent of additional policy firming that may be appropriate to return inflation to 2 percent over time, the Committee will take into account the cumulative tightening of monetary policy, the lags with which monetary policy affects economic activity and inflation, and economic and financial developments. In addition, the Committee will continue reducing its holdings of Treasury securities and agency debt and agency mortgage-backed securities, as described in its previously announced plans. The Committee is strongly committed to returning inflation to its 2 percent\\n\\nobjective.\\n\\nIn assessing the appropriate stance of monetary policy, the Committee will continue to monitor the implications of incoming information for the economic outlook. The Committee\\n\\n(more)\\n\\n2-\\n\\nwould be prepared to adjust the stance of monetary policy as appropriate if risks emerge that could impede the attainment of the Committee’s goals. The Committee’s assessments will take into account a wide range of information, including readings on labor market conditions, inflation pressures and inflation expectations, and financial and international developments.\\n\\nVoting for the monetary policy action were Jerome H. Powell, Chair; John C. Williams, Vice Chair; Michael S. Barr; Michelle W. Bowman; Lisa D. Cook; Austan D. Goolsbee; Patrick Harker; Philip N. Jefferson; Neel Kashkari; Lorie K. Logan; and Christopher J. Waller.\\n\\n0-\\n\\nFor media inquiries, please email media@frb.gov or call 202-452-2955.\\n\\nAttachment\\n\\nFor release at 2:00 p.m. EDT\\n\\nJuly 26, 2023\\n\\nDecisions Regarding Monetary Policy Implementation\\n\\nThe Federal Reserve has made the following decisions to implement the monetary policy stance announced by the Federal Open Market Committee in its statement on July 26, 2023:\\n\\n• The Board of Governors of the Federal Reserve System voted unanimously to raise the interest rate paid on reserve balances to 5.4 percent, effective July 27, 2023.\\n\\n• As part of its policy decision, the Federal Open Market Committee voted to direct the Open Market Desk at the Federal Reserve Bank of New York, until instructed otherwise, to execute transactions in the System Open Market Account in accordance with the following domestic policy directive:\\n\\n\"Effective July 27, 2023, the Federal Open Market Committee directs the Desk to:\\n\\no Undertake open market operations as necessary to maintain the federal funds rate in a target range of 5-1/4 to 5-1/2 percent.\\n\\no Conduct standing overnight repurchase agreement operations with a minimum bid\\n\\nrate of 5.5 percent and with an aggregate operation limit of $500 billion. o Conduct standing overnight reverse repurchase agreement operations at an\\n\\noffering rate of 5.3 percent and with a per-counterparty limit of $160 billion per day.\\n\\no Roll over at auction the amount of principal payments from the Federal Reserve\\'s holdings of Treasury securities maturing in each calendar month that exceeds a cap of $60 billion per month. Redeem Treasury coupon securities up to this monthly cap and Treasury bills to the extent that coupon principal payments are less than the monthly cap.\\n\\no Reinvest into agency mortgage-backed securities (MBS) the amount of principal payments from the Federal Reserve\\'s holdings of agency debt and agency MBS received in each calendar month that exceeds a cap of $35 billion per month. o Allow modest deviations from stated amounts for reinvestments, if needed for\\n\\noperational reasons.\\n\\no Engage in dollar roll and coupon swap transactions as necessary to facilitate settlement of the Federal Reserve\\'s agency MBS transactions.\"\\n\\nIn a related action, the Board of Governors of the Federal Reserve System voted unanimously to approve a 1/4 percentage point increase in the primary credit rate to 5.5 percent, effective July 27, 2023. In taking this action, the Board approved requests to establish that rate submitted by the Boards of Directors of the Federal Reserve Banks of Boston, Philadelphia, Cleveland, Richmond, Chicago, St. Louis. Minneapolis, Kansas City, Dallas, and San Francisco.\\n\\n(more)\\n\\n2-\\n\\nThis information will be updated as appropriate to reflect decisions of the Federal Open Market Committee or the Board of Governors regarding details of the Federal Reserve\\'s operational tools and approach used to implement monetary policy.\\n\\nMore information regarding open market operations and reinvestments may be found on the Federal Reserve Bank of New York\\'s website.', metadata={'source': 'FOMC_docs_2023_2020/monetary20230726a1.pdf'})"
      ]
     },
     "execution_count": 7,
     "metadata": {},
     "output_type": "execute_result"
    }
   ],
   "source": [
    "docs[0]"
   ]
  },
  {
   "cell_type": "markdown",
   "id": "2db4c772-74bc-4d88-bc32-810f876f29bc",
   "metadata": {},
   "source": [
    "#### Split docs"
   ]
  },
  {
   "cell_type": "code",
   "execution_count": 8,
   "id": "e0118bcb-1e2a-4c38-93bc-5b69c8fb9739",
   "metadata": {},
   "outputs": [
    {
     "name": "stderr",
     "output_type": "stream",
     "text": [
      "/Users/tamoghnadas/opt/anaconda3/envs/aiml_langchain2/lib/python3.9/site-packages/huggingface_hub/file_download.py:1132: FutureWarning: `resume_download` is deprecated and will be removed in version 1.0.0. Downloads always resume when possible. If you want to force a new download, use `force_download=True`.\n",
      "  warnings.warn(\n"
     ]
    },
    {
     "data": {
      "application/vnd.jupyter.widget-view+json": {
       "model_id": "d7938a4669b94c2196253a0f66d58083",
       "version_major": 2,
       "version_minor": 0
      },
      "text/plain": [
       "  0%|          | 0/1118 [00:00<?, ?it/s]"
      ]
     },
     "metadata": {},
     "output_type": "display_data"
    },
    {
     "data": {
      "image/png": "[encoded data removed]",
      "text/plain": [
       "<Figure size 640x480 with 1 Axes>"
      ]
     },
     "metadata": {},
     "output_type": "display_data"
    }
   ],
   "source": [
    "# Use a hierarchical list of separators specifically tailored for splitting Markdown documents\n",
    "# This list is taken from LangChain's MarkdownTextSplitter class\n",
    "MARKDOWN_SEPARATORS = [\n",
    "    \"\\n#{1,6} \",\n",
    "    \"```\\n\",\n",
    "    \"\\n\\\\*\\\\*\\\\*+\\n\",\n",
    "    \"\\n---+\\n\",\n",
    "    \"\\n___+\\n\",\n",
    "    \"\\n\\n\",\n",
    "    \"\\n\",\n",
    "    \" \",\n",
    "    \"\",\n",
    "]\n",
    "\n",
    "EMBEDDING_MODEL_NAME = \"thenlper/gte-small\"\n",
    "\n",
    "def split_documents(\n",
    "    chunk_size: int,\n",
    "    knowledge_base: List[LangchainDocument],\n",
    "    tokenizer_name: Optional[str] = EMBEDDING_MODEL_NAME,\n",
    ") -> List[LangchainDocument]:\n",
    "    \"\"\"\n",
    "    Split documents into chunks of maximum size `chunk_size` tokens and return a list of documents.\n",
    "    \"\"\"\n",
    "    text_splitter = RecursiveCharacterTextSplitter.from_huggingface_tokenizer(\n",
    "        AutoTokenizer.from_pretrained(tokenizer_name),\n",
    "        chunk_size=chunk_size,\n",
    "        chunk_overlap=int(chunk_size / 10),\n",
    "        add_start_index=True,\n",
    "        strip_whitespace=True,\n",
    "        separators=MARKDOWN_SEPARATORS,\n",
    "    )\n",
    "\n",
    "    docs_processed = []\n",
    "    for doc in knowledge_base:\n",
    "        docs_processed += text_splitter.split_documents([doc])\n",
    "\n",
    "    # Remove duplicates\n",
    "    unique_texts = {}\n",
    "    docs_processed_unique = []\n",
    "    for doc in docs_processed:\n",
    "        if doc.page_content not in unique_texts:\n",
    "            unique_texts[doc.page_content] = True\n",
    "            docs_processed_unique.append(doc)\n",
    "\n",
    "    return docs_processed_unique\n",
    "\n",
    "\n",
    "docs_processed = split_documents(\n",
    "    512,  # We choose a chunk size adapted to our model\n",
    "    docs,\n",
    "    tokenizer_name=EMBEDDING_MODEL_NAME,\n",
    ")\n",
    "\n",
    "tokenizer = AutoTokenizer.from_pretrained(EMBEDDING_MODEL_NAME)\n",
    "lengths = [len(tokenizer.encode(doc.page_content)) for doc in tqdm(docs_processed)]\n",
    "fig = pd.Series(lengths).hist()\n",
    "plt.title(\"Distribution of document lengths in the knowledge base (in count of tokens)\")\n",
    "plt.show()"
   ]
  },
  {
   "cell_type": "code",
   "execution_count": 9,
   "id": "fef60fce-0152-4da7-9ede-d8e1b612209f",
   "metadata": {},
   "outputs": [
    {
     "data": {
      "text/plain": [
       "Document(page_content='FEDERAL RESERVE press release\\n\\nFor release at 2:00 p.m. EDT                                             July 26, 2023  \\n\\nRecent indicators suggest that economic activity has been expanding at a moderate pace.\\n\\nJob gains have been robust in recent months, and the unemployment rate has remained low.\\n\\nInflation remains elevated.\\n\\nThe U.S. banking system is sound and resilient. Tighter credit conditions for households and businesses are likely to weigh on economic activity, hiring, and inflation. The extent of these effects remains uncertain. The Committee remains highly attentive to inflation risks.\\n\\nThe Committee seeks to achieve maximum employment and inflation at the rate of 2 percent over the longer run. In support of these goals, the Committee decided to raise the target range for the federal funds rate to 5-1/4 to 5-1/2 percent. The Committee will continue to assess additional information and its implications for monetary policy. In determining the extent of additional policy firming that may be appropriate to return inflation to 2 percent over time, the Committee will take into account the cumulative tightening of monetary policy, the lags with which monetary policy affects economic activity and inflation, and economic and financial developments. In addition, the Committee will continue reducing its holdings of Treasury securities and agency debt and agency mortgage-backed securities, as described in its previously announced plans. The Committee is strongly committed to returning inflation to its 2 percent\\n\\nobjective.\\n\\nIn assessing the appropriate stance of monetary policy, the Committee will continue to monitor the implications of incoming information for the economic outlook. The Committee\\n\\n(more)\\n\\n2-\\n\\nwould be prepared to adjust the stance of monetary policy as appropriate if risks emerge that could impede the attainment of the Committee’s goals. The Committee’s assessments will take into account a wide range of information, including readings on labor market conditions, inflation pressures and inflation expectations, and financial and international developments.\\n\\nVoting for the monetary policy action were Jerome H. Powell, Chair; John C. Williams, Vice Chair; Michael S. Barr; Michelle W. Bowman; Lisa D. Cook; Austan D. Goolsbee; Patrick Harker; Philip N. Jefferson; Neel Kashkari; Lorie K. Logan; and Christopher J. Waller.\\n\\n0-', metadata={'source': 'FOMC_docs_2023_2020/monetary20230726a1.pdf', 'start_index': 0})"
      ]
     },
     "execution_count": 9,
     "metadata": {},
     "output_type": "execute_result"
    }
   ],
   "source": [
    "docs_processed[0]"
   ]
  },
  {
   "cell_type": "markdown",
   "id": "1ec7a602-a584-49c9-a9d1-8eb7a4652719",
   "metadata": {},
   "source": [
    "#### Embeddings & the Vector Store"
   ]
  },
  {
   "cell_type": "code",
   "execution_count": 10,
   "id": "03ce0b70-a23e-473b-83e4-2979a6cf20d3",
   "metadata": {},
   "outputs": [],
   "source": [
    "embeddings = HuggingFaceEmbeddings(\n",
    "    model_name=EMBEDDING_MODEL_NAME,\n",
    "    model_kwargs={\"device\": \"cpu\"},\n",
    "    encode_kwargs={\"normalize_embeddings\": True},  # Set `True` for cosine similarity\n",
    ")\n",
    "\n",
    "dB = FAISS.from_documents(\n",
    "    docs_processed, embeddings, distance_strategy=DistanceStrategy.COSINE\n",
    ")"
   ]
  },
  {
   "cell_type": "code",
   "execution_count": 13,
   "id": "f31aa7eb-3275-4435-83a8-e078b7eada65",
   "metadata": {},
   "outputs": [],
   "source": [
    "dB.save_local(\"faiss_index\")"
   ]
  },
  {
   "cell_type": "markdown",
   "id": "d3a4f815-72db-4def-8ade-ab5b30c8f932",
   "metadata": {},
   "source": [
    "#### Load FAISS index"
   ]
  },
  {
   "cell_type": "code",
   "execution_count": 2,
   "id": "d7d066aa-34c2-4c1d-b005-c7ca93f9894c",
   "metadata": {},
   "outputs": [
    {
     "name": "stderr",
     "output_type": "stream",
     "text": [
      "/Users/tamoghnadas/opt/anaconda3/envs/aiml_langchain2/lib/python3.9/site-packages/huggingface_hub/file_download.py:1132: FutureWarning: `resume_download` is deprecated and will be removed in version 1.0.0. Downloads always resume when possible. If you want to force a new download, use `force_download=True`.\n",
      "  warnings.warn(\n"
     ]
    }
   ],
   "source": [
    "EMBEDDING_MODEL_NAME = \"thenlper/gte-small\"\n",
    "embeddings = HuggingFaceEmbeddings(\n",
    "    model_name=EMBEDDING_MODEL_NAME,\n",
    "    model_kwargs={\"device\": \"cpu\"},\n",
    "    encode_kwargs={\"normalize_embeddings\": True},  # Set `True` for cosine similarity\n",
    ")\n",
    "dB = FAISS.load_local(\"faiss_index\", embeddings,allow_dangerous_deserialization=True)"
   ]
  },
  {
   "cell_type": "code",
   "execution_count": 3,
   "id": "66e64a11-c147-414c-a594-5236f19e265a",
   "metadata": {},
   "outputs": [
    {
     "name": "stdout",
     "output_type": "stream",
     "text": [
      "On a four-quarter change basis, total PCE price inflation was expected to be 5.5 percent in 2022, while core infla- tion was expected to be 4.7 percent, both lower than in the November projection. With the effects of supply– demand imbalances in goods markets expected to un- wind further and labor and product markets projected to become less tight, the staff continued to forecast that in- flation would decline markedly over the next two years. Core goods inflation was anticipated to slow further, housing services inflation was expected to peak in 2023 and then move down, while core non-housing services\n",
      "\n",
      "Minutes of the Meeting of December 13-14, 2022\n",
      "\n",
      "Page 7\n",
      "\n",
      "inflation was forecast to move down as wage growth eased. In 2025, both total and core PCE price inflation were expected to be near 2 percent.\n",
      "\n",
      "With inflation still elevated, the staff continued to view the risks to the inflation projection as skewed to the up- side. Moreover, the sluggish growth in real private do- mestic spending expected over the next year, a subdued global economic outlook, and persistently tight financial conditions were seen as tilting the risks to the downside around the baseline projection for real economic activ- ity, and the staff still viewed the possibility of a recession sometime over the next year as a plausible alternative to the baseline.\n",
      "\n",
      "Participants’ Views on Current Conditions and the Economic Outlook In conjunction with this FOMC meeting, participants submitted their projections of the most likely outcomes for real GDP growth, the unemployment rate, and infla- tion for each year from 2022 through 2025 and over the longer run, based on their individual assessments of ap- propriate monetary policy, including the path of the fed- eral funds rate. The longer-run projections represented each participant’s assessment of the rate to which each variable would be expected to converge, over time, un- der appropriate monetary policy and in the absence of further shocks to the economy. A Summary of Eco- nomic Projections was released to the public following the conclusion of the meeting.\n"
     ]
    }
   ],
   "source": [
    "question = \"What was Core PCE inflation in December 2022?\"\n",
    "searchDocs = dB.similarity_search(question)\n",
    "print(searchDocs[0].page_content)\n",
    "#print(searchDocs)"
   ]
  },
  {
   "cell_type": "code",
   "execution_count": 4,
   "id": "6807a29e-efcb-43b5-82d8-e7dd6017578f",
   "metadata": {},
   "outputs": [
    {
     "name": "stdout",
     "output_type": "stream",
     "text": [
      "\n",
      "Starting retrieval for question='What was Core PCE inflation in December 2022?'...\n",
      "\n",
      "==================================Top document==================================\n",
      "On a four-quarter change basis, total PCE price inflation was expected to be 5.5 percent in 2022, while core infla- tion was expected to be 4.7 percent, both lower than in the November projection. With the effects of supply– demand imbalances in goods markets expected to un- wind further and labor and product markets projected to become less tight, the staff continued to forecast that in- flation would decline markedly over the next two years. Core goods inflation was anticipated to slow further, housing services inflation was expected to peak in 2023 and then move down, while core non-housing services\n",
      "\n",
      "Minutes of the Meeting of December 13-14, 2022\n",
      "\n",
      "Page 7\n",
      "\n",
      "inflation was forecast to move down as wage growth eased. In 2025, both total and core PCE price inflation were expected to be near 2 percent.\n",
      "\n",
      "With inflation still elevated, the staff continued to view the risks to the inflation projection as skewed to the up- side. Moreover, the sluggish growth in real private do- mestic spending expected over the next year, a subdued global economic outlook, and persistently tight financial conditions were seen as tilting the risks to the downside around the baseline projection for real economic activ- ity, and the staff still viewed the possibility of a recession sometime over the next year as a plausible alternative to the baseline.\n",
      "\n",
      "Participants’ Views on Current Conditions and the Economic Outlook In conjunction with this FOMC meeting, participants submitted their projections of the most likely outcomes for real GDP growth, the unemployment rate, and infla- tion for each year from 2022 through 2025 and over the longer run, based on their individual assessments of ap- propriate monetary policy, including the path of the fed- eral funds rate. The longer-run projections represented each participant’s assessment of the rate to which each variable would be expected to converge, over time, un- der appropriate monetary policy and in the absence of further shocks to the economy. A Summary of Eco- nomic Projections was released to the public following the conclusion of the meeting.\n",
      "==================================Metadata==================================\n",
      "{'source': 'FOMC_docs_2023_2020/fomcminutes20221214.pdf', 'start_index': 26319}\n"
     ]
    }
   ],
   "source": [
    "print(f\"\\nStarting retrieval for {question=}...\")\n",
    "retrieved_docs = dB.similarity_search(query=question, k=5)\n",
    "print(\n",
    "    \"\\n==================================Top document==================================\"\n",
    ")\n",
    "print(retrieved_docs[0].page_content)\n",
    "print(\"==================================Metadata==================================\")\n",
    "print(retrieved_docs[0].metadata)"
   ]
  },
  {
   "cell_type": "markdown",
   "id": "920a5d99-3666-4a7b-a742-be85c6131741",
   "metadata": {},
   "source": [
    "#### LLM pipeline"
   ]
  },
  {
   "cell_type": "code",
   "execution_count": 11,
   "id": "dccb5880-a9e5-4955-aa20-71f76590e019",
   "metadata": {},
   "outputs": [
    {
     "name": "stderr",
     "output_type": "stream",
     "text": [
      "Some weights of BertModel were not initialized from the model checkpoint at Intel/dynamic_tinybert and are newly initialized: ['bert.pooler.dense.bias', 'bert.pooler.dense.weight']\n",
      "You should probably TRAIN this model on a down-stream task to be able to use it for predictions and inference.\n"
     ]
    }
   ],
   "source": [
    "#READER_MODEL_NAME = \"HuggingFaceH4/zephyr-7b-beta\"\n",
    "READER_MODEL_NAME = \"Intel/dynamic_tinybert\"\n",
    "\n",
    "'''\n",
    "bnb_config = BitsAndBytesConfig(\n",
    "    #load_in_4bit=True,\n",
    "    llm_int8_enable_fp32_cpu_offload=True,\n",
    "    bnb_4bit_use_double_quant=True, \n",
    "    bnb_4bit_quant_type=\"nf4\", \n",
    "    bnb_4bit_compute_dtype=torch.bfloat16\n",
    ")\n",
    "'''\n",
    "#model = AutoModelForCausalLM.from_pretrained(\n",
    "#    READER_MODEL_NAME,quantization_config=bnb_config)\n",
    "#model = AutoModel.from_pretrained(\n",
    "#    READER_MODEL_NAME)\n",
    "\n",
    "tokenizer = AutoTokenizer.from_pretrained(READER_MODEL_NAME,padding=True, truncation=True, max_length=512)"
   ]
  },
  {
   "cell_type": "code",
   "execution_count": 12,
   "id": "1314a7ab-4cf1-4e9c-ace4-763e2402c0e4",
   "metadata": {},
   "outputs": [],
   "source": [
    "READER_LLM = pipeline(\n",
    "    model=READER_MODEL_NAME,\n",
    "    tokenizer=tokenizer,\n",
    "    #task=\"text-generation\",\n",
    "    task=\"question-answering\",\n",
    "    do_sample=True,\n",
    "    temperature=0.2,\n",
    "    repetition_penalty=1.1,\n",
    "    return_full_text=False,\n",
    "    max_new_tokens=500,\n",
    ")"
   ]
  },
  {
   "cell_type": "code",
   "execution_count": 14,
   "id": "efa2fc74-d271-4d7f-8887-d2074540156b",
   "metadata": {},
   "outputs": [
    {
     "data": {
      "text/plain": [
       "{'score': 0.7268335819244385, 'start': 15, 'end': 22, 'answer': 'Nigeria'}"
      ]
     },
     "execution_count": 14,
     "metadata": {},
     "output_type": "execute_result"
    }
   ],
   "source": [
    "READER_LLM(\n",
    "    question=\"Where is Nairobi?\",\n",
    "    context=\"The capital of Nigeria is Nairobi\",\n",
    ")"
   ]
  },
  {
   "cell_type": "code",
   "execution_count": null,
   "id": "95fd0a19-28bc-4b0e-a499-3ecd64a0e49f",
   "metadata": {},
   "outputs": [],
   "source": []
  }
 ],
 "metadata": {
  "kernelspec": {
   "display_name": "Python 3 (ipykernel)",
   "language": "python",
   "name": "python3"
  },
  "language_info": {
   "codemirror_mode": {
    "name": "ipython",
    "version": 3
   },
   "file_extension": ".py",
   "mimetype": "text/x-python",
   "name": "python",
   "nbconvert_exporter": "python",
   "pygments_lexer": "ipython3",
   "version": "3.9.19"
  }
 },
 "nbformat": 4,
 "nbformat_minor": 5
}
